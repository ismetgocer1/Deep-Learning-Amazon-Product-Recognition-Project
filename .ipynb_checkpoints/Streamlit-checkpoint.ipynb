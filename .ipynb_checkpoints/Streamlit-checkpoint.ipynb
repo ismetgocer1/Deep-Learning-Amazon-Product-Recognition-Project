{
 "cells": [
  {
   "cell_type": "code",
   "execution_count": 1,
   "id": "5ecda76e",
   "metadata": {},
   "outputs": [
    {
     "name": "stdout",
     "output_type": "stream",
     "text": [
      "Writing category_prediction_streamlit4.py\n"
     ]
    }
   ],
   "source": [
    "%%writefile category_prediction_streamlit4.py\n",
    "import streamlit as st\n",
    "import tensorflow as tf\n",
    "from PIL import Image\n",
    "import pandas as pd\n",
    "import numpy as np\n",
    "from tensorflow.keras.models import load_model\n",
    "import requests\n",
    "from io import BytesIO\n",
    "\n",
    "  \n",
    "# Streamlit uygulamasının arka plan rengini ayarla\n",
    "st.markdown(\n",
    "    \"\"\"\n",
    "    <style>\n",
    "    .stApp {\n",
    "        background-color: #f4f4f4;  /* Açık gri renk */\n",
    "    </style>\n",
    "    \"\"\",\n",
    "    unsafe_allow_html=True\n",
    ")\n",
    "\n",
    "# Streamlit başlıklarını ve görselleri ekle\n",
    "st.markdown('<p style=\"background-color: #3366cc; color: white; font-size: 30px; padding: 20px; border-radius: 10px; text-align: center; box-shadow: 0px 6px 8px rgba(0, 0, 0, 0.1);\">🏠 E-Commerce (Amazon) Product Recognation 🏠</p>', unsafe_allow_html=True)\n",
    "st.markdown('<p style=\"background-color: #3366cc; color: white; font-size: 20px; padding: 10px; border-radius: 5px; text-align: center; box-shadow: 0px 2px 3px rgba(0, 0, 0, 0.1);\">📌 Products 📌</p>', unsafe_allow_html=True)\n",
    "st.image(\"resim2.jpeg\", use_column_width=True)\n",
    "# Kullanıcıdan resim yükleme yöntemini seçmesini iste\n",
    "st.sidebar.title(\"Image Upload Method\")\n",
    "upload_method = st.sidebar.radio(\"Select an Upload Method:\", [\"From Computer\", \"From Internet\"])\n",
    "\n",
    "uploaded_image = None  # Kullanıcının yüklediği resmi saklamak için\n",
    "\n",
    "if upload_method == \"From Computer\":\n",
    "    uploaded_image = st.file_uploader(\"Please upload a product image:\", type=[\"jpg\", \"png\", \"jpeg\"])\n",
    "elif upload_method == \"From Internet\":\n",
    "    st.write(\"Please Enter an URL:\")\n",
    "    image_url = st.text_input(\"Image URL\")\n",
    "\n",
    "    \n",
    "# Model seçimi\n",
    "st.sidebar.title(\"Model Selection\")\n",
    "selected_model = st.sidebar.radio(\"Select an Model:\", [\"InceptionV3\", \"MobilNet\",  \"VGG16\"])          \n",
    "        \n",
    "# Resmi yükle ve tahmin et butonları\n",
    "if uploaded_image is not None or (upload_method == \"From Internet\" and image_url):\n",
    "    st.markdown('<p style=\"background-color: #3366cc; color: white; font-size: 20px; padding: 10px; border-radius: 5px; text-align: center; box-shadow: 0px 2px 3px rgba(0, 0, 0, 0.1);\">📸 Seçtiğiniz Resim 📸</p>', unsafe_allow_html=True)\n",
    "    if uploaded_image is not None:\n",
    "        st.image(uploaded_image, caption='', use_column_width=True)\n",
    "    elif upload_method == \"From Internet\" and image_url:\n",
    "        try:\n",
    "            response = requests.get(image_url)\n",
    "            image = Image.open(BytesIO(response.content))\n",
    "            st.image(image, caption='', use_column_width=True)\n",
    "        except Exception as e:\n",
    "            st.error(\"Please Enter a Valid URL\")\n",
    "\n",
    "\n",
    "# Model bilgisi düğmesi\n",
    "if st.sidebar.button(\"About Model\"):\n",
    "    st.markdown(f'<p style=\"background-color: #3366cc; color: white; font-size: 20px; padding: 10px; border-radius: 5px; text-align: center; box-shadow: 0px 2px 3px rgba(0, 0, 0, 0.1);\">📜 {selected_model} Modeli Hakkında 📜</p>', unsafe_allow_html=True)\n",
    "    if selected_model == \"InceptionV3\":\n",
    "        st.write(\"InceptionV3 is an advanced model developed by Google for high-accuracy visual classification. It uses multi-path convolution blocks to learn multi-dimensional features.\")\n",
    "    elif selected_model == \"MobilNet\":\n",
    "        st.write(\"MobileNet is a lightweight and efficient model optimised for mobile devices. It can perform fast operations with a small number of parameters.\")\n",
    "    elif selected_model == \"VGG16\":  # VGG16 için bilgi\n",
    "        st.write(\"VGG16 is a deep convolutional neural network architecture known for its simplicity and deep layers, widely used in image recognition tasks.\")\n",
    "    \n",
    "# Tahmin yap butonu\n",
    "if st.button(\"Predict\"):\n",
    "    if upload_method == \"From Computer\" and uploaded_image is not None:\n",
    "        image = Image.open(uploaded_image)\n",
    "    elif upload_method == \"From Internet\" and image_url:\n",
    "        try:\n",
    "            response = requests.get(image_url)\n",
    "            image = Image.open(BytesIO(response.content))\n",
    "        except Exception as e:\n",
    "            st.error(\"Please Enter a Valid URL\")\n",
    "            \n",
    "            \n",
    "    # Kullanıcının seçtiği modele göre modeli yükle\n",
    "    if selected_model == \"InceptionV3\":\n",
    "        model_path = 'InceptionV3.h5'\n",
    "    elif selected_model == \"MobilNet\":\n",
    "        model_path = 'MobilNet.h5'\n",
    "    elif selected_model == \"VGG16\":\n",
    "        model_path = 'VGG16.h5'\n",
    "\n",
    "\n",
    "    # Seçilen modeli yükle\n",
    "    model = tf.keras.models.load_model(model_path, compile=False, custom_objects={'tf': tf}, safe_mode=False)\n",
    "\n",
    "    # Resmi model için hazırla ve tahmin yap\n",
    "    if 'image' in locals():\n",
    "        image = image.resize((224, 224))\n",
    "        image = tf.keras.preprocessing.image.img_to_array(image)\n",
    "        #image = image / 255.0\n",
    "        image = np.expand_dims(image, axis=0)\n",
    "\n",
    "        # Tahmin yap\n",
    "        prediction = model.predict(image)\n",
    "\n",
    "        # Tahmin sonuçlarını göster\n",
    "        class_names = [\"Area Rugs\", \"Coffee Cups & Mugs\", \"Paints\", \"Yarn\"]  # Modelin tahmin sınıfları\n",
    "        predicted_class = class_names[np.argmax(prediction)]\n",
    "        confidence = np.max(prediction)\n",
    "        \n",
    "        st.markdown(f'<p style=\"background-color: #3366cc; color: white; font-size: 20px; padding: 10px; border-radius: 5px; text-align: center; box-shadow: 0px 2px 3px rgba(0, 0, 0, 0.1);\">📸Prdiction of Model 📸</p>', unsafe_allow_html=True)\n",
    "\n",
    "        st.write(f\"Prediction Result: {predicted_class}\")\n",
    "        st.write(f\"Prediction Confidence: {confidence:.2f}\")\n",
    "        \n",
    "        st.markdown('<p style=\"background-color: #3366cc; color: white; font-size: 20px; padding: 10px; border-radius: 5px; text-align: center; box-shadow: 0px 2px 3px rgba(0, 0, 0, 0.1);\">📊 Prediction Probs  📊</p>', unsafe_allow_html=True)\n",
    "        # Tahmin olasılıklarını bir grafikte göster\n",
    "        prediction_df = pd.DataFrame({'Categories': class_names, 'Prob': prediction[0]})\n",
    "        st.bar_chart(prediction_df.set_index('Categories'))"
   ]
  },
  {
   "cell_type": "code",
   "execution_count": null,
   "id": "0b8d0793",
   "metadata": {},
   "outputs": [],
   "source": [
    "!streamlit run category_prediction_streamlit4.py"
   ]
  },
  {
   "cell_type": "code",
   "execution_count": null,
   "id": "f47aa308",
   "metadata": {},
   "outputs": [],
   "source": [
    "# Asagidakiler \"requirements.txt\" dosyasina konulacak versiyonlari belirlemek icindir"
   ]
  },
  {
   "cell_type": "code",
   "execution_count": 1,
   "id": "2d6dd1e0",
   "metadata": {},
   "outputs": [
    {
     "name": "stdout",
     "output_type": "stream",
     "text": [
      "1.28.1\n"
     ]
    }
   ],
   "source": [
    "import streamlit as st\n",
    "print(st.__version__)"
   ]
  },
  {
   "cell_type": "code",
   "execution_count": 2,
   "id": "a824a0f0",
   "metadata": {},
   "outputs": [
    {
     "name": "stdout",
     "output_type": "stream",
     "text": [
      "WARNING:tensorflow:From C:\\Users\\ypb23112\\AppData\\Local\\anaconda3\\Lib\\site-packages\\keras\\src\\losses.py:2976: The name tf.losses.sparse_softmax_cross_entropy is deprecated. Please use tf.compat.v1.losses.sparse_softmax_cross_entropy instead.\n",
      "\n",
      "2.15.0\n"
     ]
    }
   ],
   "source": [
    "import tensorflow as tf\n",
    "print(tf.__version__)"
   ]
  },
  {
   "cell_type": "code",
   "execution_count": 4,
   "id": "3e855cbe",
   "metadata": {},
   "outputs": [
    {
     "name": "stdout",
     "output_type": "stream",
     "text": [
      "9.4.0\n"
     ]
    }
   ],
   "source": [
    "from PIL import Image\n",
    "print(Image.__version__)"
   ]
  },
  {
   "cell_type": "code",
   "execution_count": 5,
   "id": "b060c887",
   "metadata": {},
   "outputs": [
    {
     "name": "stdout",
     "output_type": "stream",
     "text": [
      "9.4.0\n"
     ]
    }
   ],
   "source": [
    "import PIL\n",
    "print(PIL.__version__)"
   ]
  },
  {
   "cell_type": "code",
   "execution_count": 7,
   "id": "dcd00de7",
   "metadata": {},
   "outputs": [
    {
     "name": "stdout",
     "output_type": "stream",
     "text": [
      "2.0.3\n"
     ]
    }
   ],
   "source": [
    "import pandas as pd\n",
    "print(pd.__version__)"
   ]
  },
  {
   "cell_type": "code",
   "execution_count": 7,
   "id": "0b5139a2",
   "metadata": {},
   "outputs": [
    {
     "name": "stdout",
     "output_type": "stream",
     "text": [
      "1.24.3\n"
     ]
    }
   ],
   "source": [
    "import numpy as np\n",
    "print(np.__version__)"
   ]
  },
  {
   "cell_type": "code",
   "execution_count": 6,
   "id": "e08a200d",
   "metadata": {},
   "outputs": [
    {
     "name": "stdout",
     "output_type": "stream",
     "text": [
      "2.31.0\n"
     ]
    }
   ],
   "source": [
    "import requests\n",
    "print(requests.__version__)"
   ]
  },
  {
   "cell_type": "code",
   "execution_count": 8,
   "id": "311af9d5",
   "metadata": {},
   "outputs": [
    {
     "name": "stdout",
     "output_type": "stream",
     "text": [
      "9.4.0\n"
     ]
    }
   ],
   "source": [
    "import PIL\n",
    "print(PIL.__version__)"
   ]
  },
  {
   "cell_type": "code",
   "execution_count": null,
   "id": "159007da",
   "metadata": {},
   "outputs": [],
   "source": []
  },
  {
   "cell_type": "code",
   "execution_count": null,
   "id": "80e6bdc3",
   "metadata": {},
   "outputs": [],
   "source": []
  }
 ],
 "metadata": {
  "hide_input": false,
  "kernelspec": {
   "display_name": "Python 3 (ipykernel)",
   "language": "python",
   "name": "python3"
  },
  "language_info": {
   "codemirror_mode": {
    "name": "ipython",
    "version": 3
   },
   "file_extension": ".py",
   "mimetype": "text/x-python",
   "name": "python",
   "nbconvert_exporter": "python",
   "pygments_lexer": "ipython3",
   "version": "3.11.5"
  },
  "nbTranslate": {
   "displayLangs": [
    "*"
   ],
   "hotkey": "alt-t",
   "langInMainMenu": true,
   "sourceLang": "en",
   "targetLang": "fr",
   "useGoogleTranslate": true
  },
  "toc": {
   "base_numbering": 1,
   "nav_menu": {},
   "number_sections": true,
   "sideBar": true,
   "skip_h1_title": false,
   "title_cell": "Table of Contents",
   "title_sidebar": "Contents",
   "toc_cell": false,
   "toc_position": {},
   "toc_section_display": true,
   "toc_window_display": false
  },
  "varInspector": {
   "cols": {
    "lenName": 16,
    "lenType": 16,
    "lenVar": 40
   },
   "kernels_config": {
    "python": {
     "delete_cmd_postfix": "",
     "delete_cmd_prefix": "del ",
     "library": "var_list.py",
     "varRefreshCmd": "print(var_dic_list())"
    },
    "r": {
     "delete_cmd_postfix": ") ",
     "delete_cmd_prefix": "rm(",
     "library": "var_list.r",
     "varRefreshCmd": "cat(var_dic_list()) "
    }
   },
   "types_to_exclude": [
    "module",
    "function",
    "builtin_function_or_method",
    "instance",
    "_Feature"
   ],
   "window_display": false
  }
 },
 "nbformat": 4,
 "nbformat_minor": 5
}
